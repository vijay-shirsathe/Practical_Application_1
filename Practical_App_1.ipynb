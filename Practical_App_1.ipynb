{
 "cells": [
  {
   "cell_type": "markdown",
   "metadata": {
    "id": "CcUT6Fon_qRE"
   },
   "source": [
    "### Required Assignment 5.1: Will the Customer Accept the Coupon?\n",
    "\n",
    "**Context**\n",
    "\n",
    "Imagine driving through town and a coupon is delivered to your cell phone for a restaurant near where you are driving. Would you accept that coupon and take a short detour to the restaurant? Would you accept the coupon but use it on a subsequent trip? Would you ignore the coupon entirely? What if the coupon was for a bar instead of a restaurant? What about a coffee house? Would you accept a bar coupon with a minor passenger in the car? What about if it was just you and your partner in the car? Would weather impact the rate of acceptance? What about the time of day?\n",
    "\n",
    "Obviously, proximity to the business is a factor on whether the coupon is delivered to the driver or not, but what are the factors that determine whether a driver accepts the coupon once it is delivered to them? How would you determine whether a driver is likely to accept a coupon?\n",
    "\n",
    "**Overview**\n",
    "\n",
    "The goal of this project is to use what you know about visualizations and probability distributions to distinguish between customers who accepted a driving coupon versus those that did not.\n",
    "\n",
    "**Data**\n",
    "\n",
    "This data comes to us from the UCI Machine Learning repository and was collected via a survey on Amazon Mechanical Turk. The survey describes different driving scenarios including the destination, current time, weather, passenger, etc., and then ask the person whether he will accept the coupon if he is the driver. Answers that the user will drive there ‘right away’ or ‘later before the coupon expires’ are labeled as ‘Y = 1’ and answers ‘no, I do not want the coupon’ are labeled as ‘Y = 0’.  There are five different types of coupons -- less expensive restaurants (under \\$20), coffee houses, carry out & take away, bar, and more expensive restaurants (\\$20 - $50)."
   ]
  },
  {
   "cell_type": "markdown",
   "metadata": {
    "id": "1wORvMBJ_qRF"
   },
   "source": [
    "**Deliverables**\n",
    "\n",
    "Your final product should be a brief report that highlights the differences between customers who did and did not accept the coupons.  To explore the data you will utilize your knowledge of plotting, statistical summaries, and visualization using Python. You will publish your findings in a public facing github repository as your first portfolio piece.\n",
    "\n",
    "\n",
    "\n"
   ]
  },
  {
   "cell_type": "markdown",
   "metadata": {
    "id": "pG6_Ym6q_qRG"
   },
   "source": [
    "### Data Description\n",
    "Keep in mind that these values mentioned below are average values.\n",
    "\n",
    "The attributes of this data set include:\n",
    "1. User attributes\n",
    "    -  Gender: male, female\n",
    "    -  Age: below 21, 21 to 25, 26 to 30, etc.\n",
    "    -  Marital Status: single, married partner, unmarried partner, or widowed\n",
    "    -  Number of children: 0, 1, or more than 1\n",
    "    -  Education: high school, bachelors degree, associates degree, or graduate degree\n",
    "    -  Occupation: architecture & engineering, business & financial, etc.\n",
    "    -  Annual income: less than \\\\$12500, \\\\$12500 - \\\\$24999, \\\\$25000 - \\\\$37499, etc.\n",
    "    -  Number of times that he/she goes to a bar: 0, less than 1, 1 to 3, 4 to 8 or greater than 8\n",
    "    -  Number of times that he/she buys takeaway food: 0, less than 1, 1 to 3, 4 to 8 or greater\n",
    "    than 8\n",
    "    -  Number of times that he/she goes to a coffee house: 0, less than 1, 1 to 3, 4 to 8 or\n",
    "    greater than 8\n",
    "    -  Number of times that he/she eats at a restaurant with average expense less than \\\\$20 per\n",
    "    person: 0, less than 1, 1 to 3, 4 to 8 or greater than 8\n",
    "    -  Number of times that he/she goes to a bar: 0, less than 1, 1 to 3, 4 to 8 or greater than 8\n",
    "    \n",
    "\n",
    "2. Contextual attributes\n",
    "    - Driving destination: home, work, or no urgent destination\n",
    "    - Location of user, coupon and destination: we provide a map to show the geographical\n",
    "    location of the user, destination, and the venue, and we mark the distance between each\n",
    "    two places with time of driving. The user can see whether the venue is in the same\n",
    "    direction as the destination.\n",
    "    - Weather: sunny, rainy, or snowy\n",
    "    - Temperature: 30F, 55F, or 80F\n",
    "    - Time: 10AM, 2PM, or 6PM\n",
    "    - Passenger: alone, partner, kid(s), or friend(s)\n",
    "\n",
    "\n",
    "3. Coupon attributes\n",
    "    - time before it expires: 2 hours or one day"
   ]
  },
  {
   "cell_type": "code",
   "execution_count": 87,
   "metadata": {
    "id": "dzNoP3o__qRG"
   },
   "outputs": [],
   "source": [
    "import matplotlib.pyplot as plt \n",
    "import seaborn as sns \n",
    "import pandas as pd \n"
   ]
  },
  {
   "cell_type": "markdown",
   "metadata": {
    "id": "Ct8pI1uE_qRG"
   },
   "source": [
    "### Problems\n",
    "\n",
    "Use the prompts below to get started with your data analysis.  \n",
    "\n",
    "1. Read in the `coupons.csv` file.\n",
    "\n",
    "\n"
   ]
  },
  {
   "cell_type": "code",
   "execution_count": 88,
   "metadata": {
    "id": "X0vbffYg_qRH"
   },
   "outputs": [
    {
     "data": {
      "text/plain": [
       "(12684, 26)"
      ]
     },
     "execution_count": 88,
     "metadata": {},
     "output_type": "execute_result"
    }
   ],
   "source": [
    "data = pd.read_csv('data/coupons.csv')\n",
    "data.shape\n"
   ]
  },
  {
   "cell_type": "code",
   "execution_count": 89,
   "metadata": {
    "id": "TXofQ_DF_qRH",
    "outputId": "2fc96a2c-1112-4b54-f24f-dbb9bc88abfb"
   },
   "outputs": [
    {
     "data": {
      "text/html": [
       "<div>\n",
       "<style scoped>\n",
       "    .dataframe tbody tr th:only-of-type {\n",
       "        vertical-align: middle;\n",
       "    }\n",
       "\n",
       "    .dataframe tbody tr th {\n",
       "        vertical-align: top;\n",
       "    }\n",
       "\n",
       "    .dataframe thead th {\n",
       "        text-align: right;\n",
       "    }\n",
       "</style>\n",
       "<table border=\"1\" class=\"dataframe\">\n",
       "  <thead>\n",
       "    <tr style=\"text-align: right;\">\n",
       "      <th></th>\n",
       "      <th>destination</th>\n",
       "      <th>passanger</th>\n",
       "      <th>weather</th>\n",
       "      <th>temperature</th>\n",
       "      <th>time</th>\n",
       "      <th>coupon</th>\n",
       "      <th>expiration</th>\n",
       "      <th>gender</th>\n",
       "      <th>age</th>\n",
       "      <th>maritalStatus</th>\n",
       "      <th>...</th>\n",
       "      <th>CoffeeHouse</th>\n",
       "      <th>CarryAway</th>\n",
       "      <th>RestaurantLessThan20</th>\n",
       "      <th>Restaurant20To50</th>\n",
       "      <th>toCoupon_GEQ5min</th>\n",
       "      <th>toCoupon_GEQ15min</th>\n",
       "      <th>toCoupon_GEQ25min</th>\n",
       "      <th>direction_same</th>\n",
       "      <th>direction_opp</th>\n",
       "      <th>Y</th>\n",
       "    </tr>\n",
       "  </thead>\n",
       "  <tbody>\n",
       "    <tr>\n",
       "      <th>0</th>\n",
       "      <td>No Urgent Place</td>\n",
       "      <td>Alone</td>\n",
       "      <td>Sunny</td>\n",
       "      <td>55</td>\n",
       "      <td>2PM</td>\n",
       "      <td>Restaurant(&lt;20)</td>\n",
       "      <td>1d</td>\n",
       "      <td>Female</td>\n",
       "      <td>21</td>\n",
       "      <td>Unmarried partner</td>\n",
       "      <td>...</td>\n",
       "      <td>never</td>\n",
       "      <td>NaN</td>\n",
       "      <td>4~8</td>\n",
       "      <td>1~3</td>\n",
       "      <td>1</td>\n",
       "      <td>0</td>\n",
       "      <td>0</td>\n",
       "      <td>0</td>\n",
       "      <td>1</td>\n",
       "      <td>1</td>\n",
       "    </tr>\n",
       "    <tr>\n",
       "      <th>1</th>\n",
       "      <td>No Urgent Place</td>\n",
       "      <td>Friend(s)</td>\n",
       "      <td>Sunny</td>\n",
       "      <td>80</td>\n",
       "      <td>10AM</td>\n",
       "      <td>Coffee House</td>\n",
       "      <td>2h</td>\n",
       "      <td>Female</td>\n",
       "      <td>21</td>\n",
       "      <td>Unmarried partner</td>\n",
       "      <td>...</td>\n",
       "      <td>never</td>\n",
       "      <td>NaN</td>\n",
       "      <td>4~8</td>\n",
       "      <td>1~3</td>\n",
       "      <td>1</td>\n",
       "      <td>0</td>\n",
       "      <td>0</td>\n",
       "      <td>0</td>\n",
       "      <td>1</td>\n",
       "      <td>0</td>\n",
       "    </tr>\n",
       "    <tr>\n",
       "      <th>2</th>\n",
       "      <td>No Urgent Place</td>\n",
       "      <td>Friend(s)</td>\n",
       "      <td>Sunny</td>\n",
       "      <td>80</td>\n",
       "      <td>10AM</td>\n",
       "      <td>Carry out &amp; Take away</td>\n",
       "      <td>2h</td>\n",
       "      <td>Female</td>\n",
       "      <td>21</td>\n",
       "      <td>Unmarried partner</td>\n",
       "      <td>...</td>\n",
       "      <td>never</td>\n",
       "      <td>NaN</td>\n",
       "      <td>4~8</td>\n",
       "      <td>1~3</td>\n",
       "      <td>1</td>\n",
       "      <td>1</td>\n",
       "      <td>0</td>\n",
       "      <td>0</td>\n",
       "      <td>1</td>\n",
       "      <td>1</td>\n",
       "    </tr>\n",
       "    <tr>\n",
       "      <th>3</th>\n",
       "      <td>No Urgent Place</td>\n",
       "      <td>Friend(s)</td>\n",
       "      <td>Sunny</td>\n",
       "      <td>80</td>\n",
       "      <td>2PM</td>\n",
       "      <td>Coffee House</td>\n",
       "      <td>2h</td>\n",
       "      <td>Female</td>\n",
       "      <td>21</td>\n",
       "      <td>Unmarried partner</td>\n",
       "      <td>...</td>\n",
       "      <td>never</td>\n",
       "      <td>NaN</td>\n",
       "      <td>4~8</td>\n",
       "      <td>1~3</td>\n",
       "      <td>1</td>\n",
       "      <td>1</td>\n",
       "      <td>0</td>\n",
       "      <td>0</td>\n",
       "      <td>1</td>\n",
       "      <td>0</td>\n",
       "    </tr>\n",
       "    <tr>\n",
       "      <th>4</th>\n",
       "      <td>No Urgent Place</td>\n",
       "      <td>Friend(s)</td>\n",
       "      <td>Sunny</td>\n",
       "      <td>80</td>\n",
       "      <td>2PM</td>\n",
       "      <td>Coffee House</td>\n",
       "      <td>1d</td>\n",
       "      <td>Female</td>\n",
       "      <td>21</td>\n",
       "      <td>Unmarried partner</td>\n",
       "      <td>...</td>\n",
       "      <td>never</td>\n",
       "      <td>NaN</td>\n",
       "      <td>4~8</td>\n",
       "      <td>1~3</td>\n",
       "      <td>1</td>\n",
       "      <td>1</td>\n",
       "      <td>0</td>\n",
       "      <td>0</td>\n",
       "      <td>1</td>\n",
       "      <td>0</td>\n",
       "    </tr>\n",
       "  </tbody>\n",
       "</table>\n",
       "<p>5 rows × 26 columns</p>\n",
       "</div>"
      ],
      "text/plain": [
       "       destination  passanger weather  temperature  time  \\\n",
       "0  No Urgent Place      Alone   Sunny           55   2PM   \n",
       "1  No Urgent Place  Friend(s)   Sunny           80  10AM   \n",
       "2  No Urgent Place  Friend(s)   Sunny           80  10AM   \n",
       "3  No Urgent Place  Friend(s)   Sunny           80   2PM   \n",
       "4  No Urgent Place  Friend(s)   Sunny           80   2PM   \n",
       "\n",
       "                  coupon expiration  gender age      maritalStatus  ...  \\\n",
       "0        Restaurant(<20)         1d  Female  21  Unmarried partner  ...   \n",
       "1           Coffee House         2h  Female  21  Unmarried partner  ...   \n",
       "2  Carry out & Take away         2h  Female  21  Unmarried partner  ...   \n",
       "3           Coffee House         2h  Female  21  Unmarried partner  ...   \n",
       "4           Coffee House         1d  Female  21  Unmarried partner  ...   \n",
       "\n",
       "   CoffeeHouse CarryAway RestaurantLessThan20 Restaurant20To50  \\\n",
       "0        never       NaN                  4~8              1~3   \n",
       "1        never       NaN                  4~8              1~3   \n",
       "2        never       NaN                  4~8              1~3   \n",
       "3        never       NaN                  4~8              1~3   \n",
       "4        never       NaN                  4~8              1~3   \n",
       "\n",
       "  toCoupon_GEQ5min toCoupon_GEQ15min toCoupon_GEQ25min direction_same  \\\n",
       "0                1                 0                 0              0   \n",
       "1                1                 0                 0              0   \n",
       "2                1                 1                 0              0   \n",
       "3                1                 1                 0              0   \n",
       "4                1                 1                 0              0   \n",
       "\n",
       "  direction_opp  Y  \n",
       "0             1  1  \n",
       "1             1  0  \n",
       "2             1  1  \n",
       "3             1  0  \n",
       "4             1  0  \n",
       "\n",
       "[5 rows x 26 columns]"
      ]
     },
     "execution_count": 89,
     "metadata": {},
     "output_type": "execute_result"
    }
   ],
   "source": [
    "data.head()"
   ]
  },
  {
   "cell_type": "markdown",
   "metadata": {
    "id": "GcDs78ZH_qRH"
   },
   "source": [
    "2. Investigate the dataset for missing or problematic data."
   ]
  },
  {
   "cell_type": "code",
   "execution_count": null,
   "metadata": {},
   "outputs": [],
   "source": [
    "# Examine how many missing values exist for each column and also list the unique values in each column\n",
    "for col in data.columns:\n",
    "    missing_count = data[col].isnull().sum()\n",
    "    unique_values = data[col].unique()\n",
    "    #print(f\"{col}: {missing_count} missing values\")\n",
    "    #print(f\"Unique values: {unique_values}\\n\")"
   ]
  },
  {
   "cell_type": "markdown",
   "metadata": {
    "id": "bSdVSpYB_qRH"
   },
   "source": [
    "3. Decide what to do about your missing data -- drop, replace, other..."
   ]
  },
  {
   "cell_type": "code",
   "execution_count": null,
   "metadata": {},
   "outputs": [],
   "source": [
    "# Let's drop the car column as it is predominantly missing values and therefore not useful for our analysis\n",
    "\n",
    "data = data.drop('car', axis=1)\n",
    "#print(data.shape)\n",
    "\n",
    "# For the rest of the columns with relatively small number of missing values, let's fill them with the mode value\n",
    "for col in data.columns:\n",
    "    if data[col].isnull().sum() > 0:\n",
    "        mode_value = data[col].mode()[0] # since there could be multiple mode values, we will take the first one\n",
    "        #print(mode_value)\n",
    "        data[col] = data[col].fillna(mode_value)\n"
   ]
  },
  {
   "cell_type": "markdown",
   "metadata": {
    "id": "YE6oJbXd_qRI"
   },
   "source": [
    "4. What proportion of the total observations chose to accept the coupon?\n",
    "\n"
   ]
  },
  {
   "cell_type": "code",
   "execution_count": 103,
   "metadata": {},
   "outputs": [
    {
     "name": "stdout",
     "output_type": "stream",
     "text": [
      "overall coupon acceptance rate is  56.84%\n"
     ]
    }
   ],
   "source": [
    "coupon_accepted_count = (data['Y'] == 1).sum()\n",
    "total_count = len(data)\n",
    "coupon_accepted_rate = coupon_accepted_count / total_count\n",
    "print(f\"overall coupon acceptance rate is {coupon_accepted_rate: 0.2%}\")"
   ]
  },
  {
   "cell_type": "markdown",
   "metadata": {
    "id": "vflz0DoE_qRI"
   },
   "source": [
    "5. Use a bar plot to visualize the `coupon` column."
   ]
  },
  {
   "cell_type": "code",
   "execution_count": 93,
   "metadata": {},
   "outputs": [
    {
     "data": {
      "image/png": "[encoded data removed]",
      "text/plain": [
       "<Figure size 800x500 with 1 Axes>"
      ]
     },
     "metadata": {},
     "output_type": "display_data"
    }
   ],
   "source": [
    "plt.figure(figsize=(8, 5))\n",
    "sns.countplot(x='coupon', data=data)\n",
    "plt.title('Distribution of Coupon Types')\n",
    "plt.xlabel('Coupon Type')\n",
    "plt.ylabel('Count')\n",
    "plt.xticks(rotation=45)\n",
    "plt.tight_layout()\n",
    "plt.show()"
   ]
  },
  {
   "cell_type": "markdown",
   "metadata": {
    "id": "Qw4lCyx2_qRI"
   },
   "source": [
    "6. Use a histogram to visualize the temperature column."
   ]
  },
  {
   "cell_type": "code",
   "execution_count": 94,
   "metadata": {},
   "outputs": [
    {
     "data": {
      "image/png": "[encoded data removed]",
      "text/plain": [
       "<Figure size 800x500 with 1 Axes>"
      ]
     },
     "metadata": {},
     "output_type": "display_data"
    }
   ],
   "source": [
    "plt.figure(figsize=(8, 5))\n",
    "sns.histplot(data['temperature'], bins=10, kde=True)\n",
    "plt.title('Distribution of Temperature')\n",
    "plt.xlabel('Temperature (F)')\n",
    "plt.ylabel('Frequency')\n",
    "plt.tight_layout()\n",
    "plt.show()"
   ]
  },
  {
   "cell_type": "markdown",
   "metadata": {
    "id": "FupfgeJk_qRJ"
   },
   "source": [
    "**Investigating the Bar Coupons**\n",
    "\n",
    "Now, we will lead you through an exploration of just the bar related coupons.  \n",
    "\n",
    "1. Create a new `DataFrame` that contains just the bar coupons.\n"
   ]
  },
  {
   "cell_type": "code",
   "execution_count": 95,
   "metadata": {},
   "outputs": [],
   "source": [
    "bar_coupons = data[data['coupon'] == 'Bar']\n",
    "#bar_coupons.shape\n",
    "#bar_coupons.head()"
   ]
  },
  {
   "cell_type": "markdown",
   "metadata": {
    "id": "8ue6uCqf_qRJ"
   },
   "source": [
    "2. What proportion of bar coupons were accepted?\n"
   ]
  },
  {
   "cell_type": "code",
   "execution_count": 104,
   "metadata": {},
   "outputs": [
    {
     "name": "stdout",
     "output_type": "stream",
     "text": [
      "Overall bar coupons acceptance rate is: 41.00%\n"
     ]
    }
   ],
   "source": [
    "bar_accepted = (bar_coupons['Y'] == 1).sum()\n",
    "bar_total = bar_coupons.shape[0]\n",
    "bar_acceptance_rate = bar_accepted / bar_total\n",
    "print(f\"Overall bar coupons acceptance rate is: {bar_acceptance_rate:.2%}\")"
   ]
  },
  {
   "cell_type": "markdown",
   "metadata": {
    "id": "85nA_iEi_qRK"
   },
   "source": [
    "3. Compare the acceptance rate between those who went to a bar 3 or fewer times a month to those who went more.\n"
   ]
  },
  {
   "cell_type": "code",
   "execution_count": 105,
   "metadata": {},
   "outputs": [
    {
     "name": "stdout",
     "output_type": "stream",
     "text": [
      "Bar coupon acceptance rate (3 or fewer bar visits): 37.07%\n",
      "Bar coupon acceptance rate (4 or more bar visits): 76.88%\n"
     ]
    }
   ],
   "source": [
    "# Acceptance rate for those who went to a bar 3 or fewer times a month\n",
    "occasional_bar_visitors = bar_coupons[bar_coupons['Bar'].isin(['never', 'less1', '1~3'])]\n",
    "occasional_bar_acceptance_rate = (occasional_bar_visitors['Y'] == 1).sum()/occasional_bar_visitors.shape[0]\n",
    "\n",
    "# Acceptance rate for those who went to a bar 4 or more times a month\n",
    "frequent_bar_visitors = bar_coupons[bar_coupons['Bar'].isin(['4~8', 'gt8'])]\n",
    "frequent_bar_acceptance_rate = (frequent_bar_visitors['Y'] == 1).sum()/frequent_bar_visitors.shape[0]  \n",
    "\n",
    "print(f\"Bar coupon acceptance rate (3 or fewer bar visits): {occasional_bar_acceptance_rate:.2%}\")\n",
    "print(f\"Bar coupon acceptance rate (4 or more bar visits): {frequent_bar_acceptance_rate:.2%}\")"
   ]
  },
  {
   "cell_type": "markdown",
   "metadata": {
    "id": "RBgcQwH4_qRK"
   },
   "source": [
    "4. Compare the acceptance rate between drivers who go to a bar more than once a month and are over the age of 25 to the all others.  Is there a difference?\n"
   ]
  },
  {
   "cell_type": "code",
   "execution_count": 106,
   "metadata": {},
   "outputs": [
    {
     "name": "stdout",
     "output_type": "stream",
     "text": [
      "Bar coupon acceptance rate (bar >1/month & age >25): 69.52%\n",
      "Bar coupon acceptance rate (all others): 33.50%\n"
     ]
    }
   ],
   "source": [
    "# Acceptance rate for drivers who go to the bar more than once a month and are over age 25\n",
    "over_25_bar_visitors = bar_coupons[\n",
    "    (bar_coupons['Bar'].isin(['1~3', '4~8', 'gt8'])) &\n",
    "    (bar_coupons['age'].isin(['26', '31', '36', '41', '46', '50plus']))\n",
    "]\n",
    "\n",
    "over_25_acceptance_rate = (over_25_bar_visitors['Y'] == 1).mean()\n",
    "\n",
    "# Acceptance rate for all other drivers that dont meet the criteria above\n",
    "others = bar_coupons[\n",
    "    ~((bar_coupons['Bar'].isin(['1~3', '4~8', 'gt8'])) &\n",
    "      (bar_coupons['age'].isin(['26', '31', '36', '41', '46', '50plus'])))\n",
    "]\n",
    "\n",
    "others_acceptance_rate = (others['Y'] == 1).mean()\n",
    "\n",
    "print(f\"Bar coupon acceptance rate (bar >1/month & age >25): {over_25_acceptance_rate:.2%}\")\n",
    "print(f\"Bar coupon acceptance rate (all others): {others_acceptance_rate:.2%}\")"
   ]
  },
  {
   "cell_type": "markdown",
   "metadata": {
    "id": "S4RKT4PJ_qRK"
   },
   "source": [
    "5. Use the same process to compare the acceptance rate between drivers who go to bars more than once a month and had passengers that were not a kid and had occupations other than farming, fishing, or forestry.\n"
   ]
  },
  {
   "cell_type": "code",
   "execution_count": 107,
   "metadata": {},
   "outputs": [
    {
     "name": "stdout",
     "output_type": "stream",
     "text": [
      "Bar coupon acceptance rate (bar >1/month, not kid passenger): 71.32%\n",
      "Bar coupon acceptance rate (bar >1/month, not farming/fishing/forestry): 68.79%\n"
     ]
    }
   ],
   "source": [
    "# Acceptance rate for drivers who go to bars more than once a month and had passengers that were not a kid,\n",
    "no_kids_bar_visitors = bar_coupons[\n",
    "    (bar_coupons['Bar'].isin(['1~3', '4~8', 'gt8'])) &\n",
    "    (bar_coupons['passanger'] != 'Kid(s)') \n",
    "]\n",
    "\n",
    "no_kids_acceptance_rate = (no_kids_bar_visitors['Y'] == 1).mean()\n",
    "print(f\"Bar coupon acceptance rate (bar >1/month, not kid passenger): {no_kids_acceptance_rate:.2%}\")\n",
    "\n",
    "# Acceptance rate for drivers who go to bars more than once a month and had occupations other than farming, fishing, or forestry\n",
    "no_farming_fishing_forestry_bar_visitors = bar_coupons[\n",
    "    (bar_coupons['Bar'].isin(['1~3', '4~8', 'gt8'])) &\n",
    "    (~bar_coupons['occupation'].isin(['Farming Fishing & Forestry']))\n",
    "]\n",
    "\n",
    "no_farming_fishing_forestry_acceptance_rate = (no_farming_fishing_forestry_bar_visitors['Y'] == 1).mean()\n",
    "print(f\"Bar coupon acceptance rate (bar >1/month, not farming/fishing/forestry): {no_farming_fishing_forestry_acceptance_rate:.2%}\")"
   ]
  },
  {
   "cell_type": "markdown",
   "metadata": {
    "id": "n2LIUTil_qRK"
   },
   "source": [
    "6. Compare the acceptance rates between those drivers who:\n",
    "\n",
    "- go to bars more than once a month, had passengers that were not a kid, and were not widowed *OR*\n",
    "- go to bars more than once a month and are under the age of 30 *OR*\n",
    "- go to cheap restaurants more than 4 times a month and income is less than 50K.\n",
    "\n"
   ]
  },
  {
   "cell_type": "code",
   "execution_count": 108,
   "metadata": {},
   "outputs": [
    {
     "name": "stdout",
     "output_type": "stream",
     "text": [
      "Bar coupon acceptance rate (bar >1/month, not kid passenger, not widowed): 71.32%\n",
      "Bar coupon acceptance rate (bar >1/month & age <30): 72.17%\n",
      "Bar coupon acceptance rate (cheap restaurants >4/month & income <50K): 60.07%\n"
     ]
    }
   ],
   "source": [
    "#Acceptance rate for drivers who go to bars more than once a month and had passengers that were not a kid, annd were not widowed\n",
    "no_kids_not_widowed_bar_visitors = bar_coupons[\n",
    "    (bar_coupons['Bar'].isin(['1~3', '4~8', 'gt8'])) &\n",
    "    (bar_coupons['passanger'] != 'Kid(s)') &\n",
    "    (bar_coupons['maritalStatus'] != 'Widowed')\n",
    "]\n",
    "\n",
    "no_kids_not_widowed_acceptance_rate = (no_kids_not_widowed_bar_visitors['Y'] == 1).mean()\n",
    "print(f\"Bar coupon acceptance rate (bar >1/month, not kid passenger, not widowed): {no_kids_not_widowed_acceptance_rate:.2%}\")\n",
    "\n",
    "under_30_bar_visitors = bar_coupons[\n",
    "    (bar_coupons['Bar'].isin(['1~3', '4~8', 'gt8'])) &\n",
    "    (bar_coupons['age'].isin(['below21', '21', '26']))\n",
    "]\n",
    "under_30_acceptance_rate = (under_30_bar_visitors['Y'] == 1).mean()\n",
    "print(f\"Bar coupon acceptance rate (bar >1/month & age <30): {under_30_acceptance_rate:.2%}\")\n",
    "\n",
    "cheap_restaurant_drivers = data[\n",
    "    (data['RestaurantLessThan20'].isin(['4~8', 'gt8'])) &\n",
    "    (data['income'].isin(['Less than $12500', '$12500 - $24999', '$25000 - $37499', '$37500 - $49999']))\n",
    "]\n",
    "cheap_restaurant_acceptance_rate = (cheap_restaurant_drivers['Y'] == 1).mean()\n",
    "print(f\"Bar coupon acceptance rate (cheap restaurants >4/month & income <50K): {cheap_restaurant_acceptance_rate:.2%}\")\n"
   ]
  },
  {
   "cell_type": "markdown",
   "metadata": {
    "id": "v3fL3QkO_qRK"
   },
   "source": [
    "7.  Based on these observations, what do you hypothesize about drivers who accepted the bar coupons?"
   ]
  },
  {
   "cell_type": "markdown",
   "metadata": {},
   "source": [
    "Key findings and conclusion: \n",
    "\n",
    "On an average, 41% of bar coupons get accepted\n",
    "Drivers that visit bars more frequently (>= 4 times per month) are almost twice as likely to accept bar coupons (approx 77% acceptance) than those who visit less often\n",
    "\n",
    "Drivers over age of 25 that visit bars at least once a month are two times likely to accept bar coupons (approx 70%) Vs rest of the drivers\n",
    "\n",
    "Within the drivers that visit bars at least once a month, bar coupon acceptance rate stays at approx. 70% regardless of the age\n",
    "\n",
    "Within the drivers that visit bars at least once a month, bar coupon acceptance rate stays at approx. 70% when they don't have kid passengers\n",
    "\n",
    "Drivers that frequently ( >=4 times a month) visit cheap restaurants and have lower income (<$50K) are more likely (1.5 times) to accept bar coupons than average population.\n",
    "\n",
    "Bar coupons are highly effective for drivers who visit bar at least once a month and also quite effective for lower income (<$50K) drivers that frequently eat at cheap restaurants.\n"
   ]
  },
  {
   "cell_type": "markdown",
   "metadata": {
    "id": "r4Hu1zOb_qRL"
   },
   "source": [
    "### Independent Investigation\n",
    "\n",
    "Using the bar coupon example as motivation, you are to explore one of the other coupon groups and try to determine the characteristics of passengers who accept the coupons.  "
   ]
  },
  {
   "cell_type": "markdown",
   "metadata": {},
   "source": [
    "Let's analyze carry out & takeaway coupon acceptance: \n",
    "1. Calculate the overall coupon acceptance rate for the entire population\n",
    "2. Compare the acceptance rate for 2 hr with 1 day coupon\n",
    "3. Compare the acceptance rate when the weather is good or bad\n",
    "4. How does the accpetance rate vary based on the time of the day\n",
    "5. What is the acceptance rate for drivers that visit expensive restaurants 4 or more times a month\n",
    "6. What is the acceptance rate for drivers that are driving in the direction opposite to the coupon giving place.\n",
    "7. What is the acceptance rate for the drivers with income greater than $100,000\n",
    "8. What is the acceptance rate for drivers who have children as passengers"
   ]
  },
  {
   "cell_type": "code",
   "execution_count": 109,
   "metadata": {
    "id": "0c71cQhu_qRL"
   },
   "outputs": [
    {
     "name": "stdout",
     "output_type": "stream",
     "text": [
      "Overall 'Carry out & Take away' coupons acceptance rate: 73.55%\n",
      "'Carry out & Take away' coupons acceptance rate (2 hr coupons): 66.38%\n",
      "'Carry out & Take away' coupons acceptance rate (1 day coupons): 78.16%\n",
      "'Carry out & Take away' coupons acceptance rate (good weather): 76.29%\n",
      "'Carry out & Take away' coupons acceptance rate (bad weather): 61.13%\n"
     ]
    },
    {
     "data": {
      "image/png": "[encoded data removed]",
      "text/plain": [
       "<Figure size 800x500 with 1 Axes>"
      ]
     },
     "metadata": {},
     "output_type": "display_data"
    },
    {
     "name": "stdout",
     "output_type": "stream",
     "text": [
      "'Carry out & Take away' coupons acceptance rate (expensive restaurants >4/month): 73.60%\n",
      "'Carry out & Take away' coupons acceptance rate (opposite direction): 75.12%\n",
      "'Carry out & Take away' coupons acceptance rate (income >$100,000): 70.59%\n",
      "'Carry out & Take away' coupons acceptance rate (kid passengers): 70.39%\n"
     ]
    }
   ],
   "source": [
    "# Create a new DataFrame that only contains \"Carry out & Take away\" coupons\n",
    "carryout_coupons = data[data['coupon'] == 'Carry out & Take away']\n",
    "#carryout_coupons.shape\n",
    "#carryout_coupons.head()\n",
    "\n",
    "# Calculate and print the overall acceptance rate of \"Carry out & Take away\" coupons\n",
    "carryout_accepted = (carryout_coupons['Y'] == 1).sum()\n",
    "carryout_total = carryout_coupons.shape[0]\n",
    "carryout_acceptance_rate = carryout_accepted / carryout_total\n",
    "print(f\"Overall 'Carry out & Take away' coupons acceptance rate: {carryout_acceptance_rate:.2%}\")\n",
    "\n",
    "# Compare acceptance rates based on whether it is a 2 hr coupon or 1 day coupon\n",
    "two_hr_coupons = carryout_coupons[carryout_coupons['expiration'] == '2h']\n",
    "one_day_coupons = carryout_coupons[carryout_coupons['expiration'] == '1d']\n",
    "two_hr_acceptance_rate = (two_hr_coupons['Y'] == 1).mean()\n",
    "one_day_acceptance_rate = (one_day_coupons['Y'] == 1).mean()\n",
    "print(f\"'Carry out & Take away' coupons acceptance rate (2 hr coupons): {two_hr_acceptance_rate:.2%}\")\n",
    "print(f\"'Carry out & Take away' coupons acceptance rate (1 day coupons): {one_day_acceptance_rate:.2%}\")\n",
    "\n",
    "# Compare acceptance rates based on weather conditions\n",
    "good_weather_coupons = carryout_coupons[carryout_coupons['weather'].isin(['Sunny', 'Cloudy'])]\n",
    "bad_weather_coupons = carryout_coupons[carryout_coupons['weather'] == 'Rainy']\n",
    "good_weather_acceptance_rate = (good_weather_coupons['Y'] == 1).mean()\n",
    "bad_weather_acceptance_rate = (bad_weather_coupons['Y'] == 1).mean()\n",
    "print(f\"'Carry out & Take away' coupons acceptance rate (good weather): {good_weather_acceptance_rate:.2%}\")        \n",
    "print(f\"'Carry out & Take away' coupons acceptance rate (bad weather): {bad_weather_acceptance_rate:.2%}\")\n",
    "\n",
    "# create a bar plot of acceptance rates based on time of day\n",
    "plt.figure(figsize=(8, 5))\n",
    "sns.barplot(x='time', y='Y', data=carryout_coupons, errorbar=None)\n",
    "plt.title('Acceptance Rates by Time of Day for Carry out & Take away Coupons')  \n",
    "plt.xlabel('Time of Day')\n",
    "plt.ylabel('Acceptance Rate')\n",
    "plt.tight_layout()\n",
    "plt.show()\n",
    "\n",
    "# calculate acceptance rate for drivers that visit expensive restuarants 4 or more times a month\n",
    "expensive_restaurant_drivers = carryout_coupons[\n",
    "    (carryout_coupons['Restaurant20To50'].isin(['4~8', 'gt8']))\n",
    "]\n",
    "#print (expensive_restaurant_drivers.shape)\n",
    "expensive_restaurant_acceptance_rate = (expensive_restaurant_drivers['Y'] == 1).mean()\n",
    "print(f\"'Carry out & Take away' coupons acceptance rate (expensive restaurants >4/month): {expensive_restaurant_acceptance_rate:.2%}\")\n",
    "\n",
    "# calculate acceptance rate for drivers that are driving in the opposite direction to the coupon location\n",
    "opposite_direction_drivers = carryout_coupons[\n",
    "    (carryout_coupons['direction_opp'] == 1)\n",
    "]\n",
    "#print (opposite_direction_drivers.shape)\n",
    "opposite_direction_acceptance_rate = (opposite_direction_drivers['Y'] == 1).mean()\n",
    "print(f\"'Carry out & Take away' coupons acceptance rate (opposite direction): {opposite_direction_acceptance_rate:.2%}\")\n",
    "\n",
    "# calculate acceptance rate for the drivers with income greater than $100,000\n",
    "high_income_drivers = carryout_coupons[\n",
    "    (carryout_coupons['income'].isin(['$100000 or More']))\n",
    "]   \n",
    "high_income_acceptance_rate = (high_income_drivers['Y'] == 1).mean()\n",
    "print(f\"'Carry out & Take away' coupons acceptance rate (income >$100,000): {high_income_acceptance_rate:.2%}\")\n",
    "\n",
    "# calculate acceptance rate for drivers who have children as passengers\n",
    "kids_passenger_drivers = carryout_coupons[\n",
    "    (carryout_coupons['passanger'] == 'Kid(s)')\n",
    "]   \n",
    "kids_passenger_acceptance_rate = (kids_passenger_drivers['Y'] == 1).mean()\n",
    "print(f\"'Carry out & Take away' coupons acceptance rate (kid passengers): {kids_passenger_acceptance_rate:.2%}\")\n",
    "\n",
    "\n"
   ]
  },
  {
   "cell_type": "markdown",
   "metadata": {},
   "source": [
    "Key Findings and Conclusion:\n",
    "\n",
    "Carry out & takeaway coupons are more popular (overall acceptance rate of 73.55%) than bar coupons\n",
    "\n",
    "1 day carryout coupons are more effective  (78% acceptance) than the ones with 2 hour expiry, although 2 hr expiry coupons do get accepted at 66%\n",
    "\n",
    "Bad weather does lower the coupon acceptance rate down to 61% and good weather boosts it (76%)\n",
    "\n",
    "2 PM is the best time and 7 AM is the worst time for coupon acceptance\n",
    "\n",
    "Coupon acceptance rate doesn't seem to significantly vary with the factors such as whether the driver is (a) going in the opposite direction, (b) a high income earner, (c) carrying kids in the car, and (d) eating frequenty (4 or more times a month) in expensive restaurants."
   ]
  }
 ],
 "metadata": {
  "colab": {
   "provenance": []
  },
  "kernelspec": {
   "display_name": "base",
   "language": "python",
   "name": "python3"
  },
  "language_info": {
   "codemirror_mode": {
    "name": "ipython",
    "version": 3
   },
   "file_extension": ".py",
   "mimetype": "text/x-python",
   "name": "python",
   "nbconvert_exporter": "python",
   "pygments_lexer": "ipython3",
   "version": "3.13.5"
  }
 },
 "nbformat": 4,
 "nbformat_minor": 4
}
